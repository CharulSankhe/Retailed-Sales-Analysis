{
  "cells": [
    {
      "cell_type": "code",
      "execution_count": null,
      "id": "d8dcde85",
      "metadata": {
        "id": "d8dcde85",
        "outputId": "9dc0a276-39d1-4b4d-dd48-cff27241f394"
      },
      "outputs": [
        {
          "data": {
            "text/plain": [
              "'C:\\\\Users\\\\ADMIN'"
            ]
          },
          "execution_count": 1,
          "metadata": {},
          "output_type": "execute_result"
        }
      ],
      "source": [
        "import os\n",
        "import pandas as pd\n",
        "import numpy as np\n",
        "from matplotlib import pyplot as plt\n",
        "os.getcwd()"
      ]
    },
    {
      "cell_type": "markdown",
      "id": "d78a498c",
      "metadata": {
        "id": "d78a498c"
      },
      "source": [
        "### DATA IMPORT"
      ]
    },
    {
      "cell_type": "code",
      "execution_count": null,
      "id": "239c0d9c",
      "metadata": {
        "id": "239c0d9c",
        "outputId": "827f70ca-990e-4feb-ec8f-9d84e7e54b69"
      },
      "outputs": [
        {
          "data": {
            "text/html": [
              "<div>\n",
              "<style scoped>\n",
              "    .dataframe tbody tr th:only-of-type {\n",
              "        vertical-align: middle;\n",
              "    }\n",
              "\n",
              "    .dataframe tbody tr th {\n",
              "        vertical-align: top;\n",
              "    }\n",
              "\n",
              "    .dataframe thead th {\n",
              "        text-align: right;\n",
              "    }\n",
              "</style>\n",
              "<table border=\"1\" class=\"dataframe\">\n",
              "  <thead>\n",
              "    <tr style=\"text-align: right;\">\n",
              "      <th></th>\n",
              "      <th>Item_Identifier</th>\n",
              "      <th>Item_Weight</th>\n",
              "      <th>Item_Fat_Content</th>\n",
              "      <th>Item_Visibility</th>\n",
              "      <th>Item_Type</th>\n",
              "      <th>Item_MRP</th>\n",
              "      <th>Outlet_Identifier</th>\n",
              "      <th>Outlet_Establishment_Year</th>\n",
              "      <th>Outlet_Size</th>\n",
              "      <th>Outlet_Location_Type</th>\n",
              "      <th>Outlet_Type</th>\n",
              "      <th>Item_Outlet_Sales</th>\n",
              "    </tr>\n",
              "  </thead>\n",
              "  <tbody>\n",
              "    <tr>\n",
              "      <th>0</th>\n",
              "      <td>FDA15</td>\n",
              "      <td>9.30</td>\n",
              "      <td>Low Fat</td>\n",
              "      <td>0.016047</td>\n",
              "      <td>Dairy</td>\n",
              "      <td>249.8092</td>\n",
              "      <td>OUT049</td>\n",
              "      <td>1999</td>\n",
              "      <td>Medium</td>\n",
              "      <td>Tier 1</td>\n",
              "      <td>Supermarket Type1</td>\n",
              "      <td>3735.1380</td>\n",
              "    </tr>\n",
              "    <tr>\n",
              "      <th>1</th>\n",
              "      <td>DRC01</td>\n",
              "      <td>5.92</td>\n",
              "      <td>Regular</td>\n",
              "      <td>0.019278</td>\n",
              "      <td>Soft Drinks</td>\n",
              "      <td>48.2692</td>\n",
              "      <td>OUT018</td>\n",
              "      <td>2009</td>\n",
              "      <td>Medium</td>\n",
              "      <td>Tier 3</td>\n",
              "      <td>Supermarket Type2</td>\n",
              "      <td>443.4228</td>\n",
              "    </tr>\n",
              "    <tr>\n",
              "      <th>2</th>\n",
              "      <td>FDN15</td>\n",
              "      <td>17.50</td>\n",
              "      <td>Low Fat</td>\n",
              "      <td>0.016760</td>\n",
              "      <td>Meat</td>\n",
              "      <td>141.6180</td>\n",
              "      <td>OUT049</td>\n",
              "      <td>1999</td>\n",
              "      <td>Medium</td>\n",
              "      <td>Tier 1</td>\n",
              "      <td>Supermarket Type1</td>\n",
              "      <td>2097.2700</td>\n",
              "    </tr>\n",
              "    <tr>\n",
              "      <th>3</th>\n",
              "      <td>FDX07</td>\n",
              "      <td>19.20</td>\n",
              "      <td>Regular</td>\n",
              "      <td>0.000000</td>\n",
              "      <td>Fruits and Vegetables</td>\n",
              "      <td>182.0950</td>\n",
              "      <td>OUT010</td>\n",
              "      <td>1998</td>\n",
              "      <td>NaN</td>\n",
              "      <td>Tier 3</td>\n",
              "      <td>Grocery Store</td>\n",
              "      <td>732.3800</td>\n",
              "    </tr>\n",
              "    <tr>\n",
              "      <th>4</th>\n",
              "      <td>NCD19</td>\n",
              "      <td>8.93</td>\n",
              "      <td>Low Fat</td>\n",
              "      <td>0.000000</td>\n",
              "      <td>Household</td>\n",
              "      <td>53.8614</td>\n",
              "      <td>OUT013</td>\n",
              "      <td>1987</td>\n",
              "      <td>High</td>\n",
              "      <td>Tier 3</td>\n",
              "      <td>Supermarket Type1</td>\n",
              "      <td>994.7052</td>\n",
              "    </tr>\n",
              "  </tbody>\n",
              "</table>\n",
              "</div>"
            ],
            "text/plain": [
              "  Item_Identifier  Item_Weight Item_Fat_Content  Item_Visibility  \\\n",
              "0           FDA15         9.30          Low Fat         0.016047   \n",
              "1           DRC01         5.92          Regular         0.019278   \n",
              "2           FDN15        17.50          Low Fat         0.016760   \n",
              "3           FDX07        19.20          Regular         0.000000   \n",
              "4           NCD19         8.93          Low Fat         0.000000   \n",
              "\n",
              "               Item_Type  Item_MRP Outlet_Identifier  \\\n",
              "0                  Dairy  249.8092            OUT049   \n",
              "1            Soft Drinks   48.2692            OUT018   \n",
              "2                   Meat  141.6180            OUT049   \n",
              "3  Fruits and Vegetables  182.0950            OUT010   \n",
              "4              Household   53.8614            OUT013   \n",
              "\n",
              "   Outlet_Establishment_Year Outlet_Size Outlet_Location_Type  \\\n",
              "0                       1999      Medium               Tier 1   \n",
              "1                       2009      Medium               Tier 3   \n",
              "2                       1999      Medium               Tier 1   \n",
              "3                       1998         NaN               Tier 3   \n",
              "4                       1987        High               Tier 3   \n",
              "\n",
              "         Outlet_Type  Item_Outlet_Sales  \n",
              "0  Supermarket Type1          3735.1380  \n",
              "1  Supermarket Type2           443.4228  \n",
              "2  Supermarket Type1          2097.2700  \n",
              "3      Grocery Store           732.3800  \n",
              "4  Supermarket Type1           994.7052  "
            ]
          },
          "execution_count": 2,
          "metadata": {},
          "output_type": "execute_result"
        }
      ],
      "source": [
        "bigmart=pd.read_csv(r\"C:\\Users\\ADMIN\\train_bigmart.csv\")\n",
        "bigmart.head()"
      ]
    },
    {
      "cell_type": "markdown",
      "id": "fd2333b8",
      "metadata": {
        "id": "fd2333b8"
      },
      "source": [
        "## DATA DESCRIPTION"
      ]
    },
    {
      "cell_type": "markdown",
      "id": "02257df6",
      "metadata": {
        "id": "02257df6"
      },
      "source": [
        "Data source:Kaggel\n"
      ]
    },
    {
      "cell_type": "markdown",
      "id": "6199dc31",
      "metadata": {
        "id": "6199dc31"
      },
      "source": [
        "Overview: This Data consist of differet Item(product) sale in various outlet of bigmart superstore. its a merge data set contain outlet describe and product describe columns.columns information is given below,\n",
        "product number and outlet number combine gives us primary key for this dataset.\n"
      ]
    },
    {
      "cell_type": "markdown",
      "id": "d7a27d7c",
      "metadata": {
        "id": "d7a27d7c"
      },
      "source": [
        "- Item_Identifier: Unique identifier for Item sold\n",
        "- Item_Weight: Weight of Item sold\n",
        "- Item_Fat_Content: Fat contain information of item sold\n",
        "- Item_Visibility: The percentage of total display area that the product occupies in the store\n",
        "- Item_Type: Type of item\n",
        "- Item_MRP: Price of Item\n",
        "- Outlet_Identifier: Unique identifier for outlet in which underlying item sold\n",
        "- Outlet_Establishment_Year: Establishment yar of outlier\n",
        "- Outlet_Size: size of outlet\n",
        "- Outlet_Location_Type: The location type of the store.\n",
        "- Outlet_Type: The Type of outlet\n",
        "- Item_Outlet_Sales: Total sale for underlying item in underlying outlet\n",
        "\n"
      ]
    },
    {
      "cell_type": "code",
      "execution_count": null,
      "id": "12a2a803",
      "metadata": {
        "id": "12a2a803",
        "outputId": "8abca6de-0187-4965-d889-189a069bf46d"
      },
      "outputs": [
        {
          "name": "stdout",
          "output_type": "stream",
          "text": [
            "<class 'pandas.core.frame.DataFrame'>\n",
            "RangeIndex: 8523 entries, 0 to 8522\n",
            "Data columns (total 12 columns):\n",
            " #   Column                     Non-Null Count  Dtype  \n",
            "---  ------                     --------------  -----  \n",
            " 0   Item_Identifier            8523 non-null   object \n",
            " 1   Item_Weight                7060 non-null   float64\n",
            " 2   Item_Fat_Content           8523 non-null   object \n",
            " 3   Item_Visibility            8523 non-null   float64\n",
            " 4   Item_Type                  8523 non-null   object \n",
            " 5   Item_MRP                   8523 non-null   float64\n",
            " 6   Outlet_Identifier          8523 non-null   object \n",
            " 7   Outlet_Establishment_Year  8523 non-null   int64  \n",
            " 8   Outlet_Size                6113 non-null   object \n",
            " 9   Outlet_Location_Type       8523 non-null   object \n",
            " 10  Outlet_Type                8523 non-null   object \n",
            " 11  Item_Outlet_Sales          8523 non-null   float64\n",
            "dtypes: float64(4), int64(1), object(7)\n",
            "memory usage: 799.2+ KB\n"
          ]
        }
      ],
      "source": [
        "bigmart.info()"
      ]
    },
    {
      "cell_type": "markdown",
      "id": "cf27a42b",
      "metadata": {
        "id": "cf27a42b"
      },
      "source": [
        "## MISSING VALUE TREATMENT"
      ]
    },
    {
      "cell_type": "code",
      "execution_count": null,
      "id": "c2363fac",
      "metadata": {
        "id": "c2363fac",
        "outputId": "af10c917-7c41-4f1a-fdce-f20f63cd22a7"
      },
      "outputs": [
        {
          "data": {
            "text/plain": [
              "Item_Identifier                 0\n",
              "Item_Weight                  1463\n",
              "Item_Fat_Content                0\n",
              "Item_Visibility                 0\n",
              "Item_Type                       0\n",
              "Item_MRP                        0\n",
              "Outlet_Identifier               0\n",
              "Outlet_Establishment_Year       0\n",
              "Outlet_Size                  2410\n",
              "Outlet_Location_Type            0\n",
              "Outlet_Type                     0\n",
              "Item_Outlet_Sales               0\n",
              "dtype: int64"
            ]
          },
          "execution_count": 4,
          "metadata": {},
          "output_type": "execute_result"
        }
      ],
      "source": [
        "bigmart.isnull().sum()"
      ]
    },
    {
      "cell_type": "markdown",
      "id": "9e1e632e",
      "metadata": {
        "id": "9e1e632e"
      },
      "source": [
        "As we can see above columns, there are null values present in item_Weight and Outlet_size, we have to either drop them or impute them before proceed further                 "
      ]
    },
    {
      "cell_type": "code",
      "execution_count": null,
      "id": "1df78d78",
      "metadata": {
        "id": "1df78d78",
        "outputId": "6fbf1790-c3ed-4236-ebe1-93c919998e68"
      },
      "outputs": [
        {
          "name": "stdout",
          "output_type": "stream",
          "text": [
            "Outlet number for which outlet size is not defined are  ['OUT010', 'OUT045', 'OUT017']\n"
          ]
        }
      ],
      "source": [
        "Outlet_size_null=list(bigmart[bigmart[\"Outlet_Size\"].isnull()][\"Outlet_Identifier\"].unique())\n",
        "print(\"Outlet number for which outlet size is not defined are \",Outlet_size_null)"
      ]
    },
    {
      "cell_type": "code",
      "execution_count": null,
      "id": "5a57fd4a",
      "metadata": {
        "scrolled": true,
        "id": "5a57fd4a",
        "outputId": "f98f0bd9-2f90-43f9-aa78-2ff228cfc93d"
      },
      "outputs": [
        {
          "data": {
            "text/html": [
              "<div>\n",
              "<style scoped>\n",
              "    .dataframe tbody tr th:only-of-type {\n",
              "        vertical-align: middle;\n",
              "    }\n",
              "\n",
              "    .dataframe tbody tr th {\n",
              "        vertical-align: top;\n",
              "    }\n",
              "\n",
              "    .dataframe thead th {\n",
              "        text-align: right;\n",
              "    }\n",
              "</style>\n",
              "<table border=\"1\" class=\"dataframe\">\n",
              "  <thead>\n",
              "    <tr style=\"text-align: right;\">\n",
              "      <th></th>\n",
              "      <th>Outlet_Identifier</th>\n",
              "      <th>Outlet_Type</th>\n",
              "      <th>Outlet_Location_Type</th>\n",
              "      <th>Outlet_Size</th>\n",
              "    </tr>\n",
              "  </thead>\n",
              "  <tbody>\n",
              "    <tr>\n",
              "      <th>0</th>\n",
              "      <td>OUT049</td>\n",
              "      <td>Supermarket Type1</td>\n",
              "      <td>Tier 1</td>\n",
              "      <td>Medium</td>\n",
              "    </tr>\n",
              "    <tr>\n",
              "      <th>1</th>\n",
              "      <td>OUT018</td>\n",
              "      <td>Supermarket Type2</td>\n",
              "      <td>Tier 3</td>\n",
              "      <td>Medium</td>\n",
              "    </tr>\n",
              "    <tr>\n",
              "      <th>3</th>\n",
              "      <td>OUT010</td>\n",
              "      <td>Grocery Store</td>\n",
              "      <td>Tier 3</td>\n",
              "      <td>NaN</td>\n",
              "    </tr>\n",
              "    <tr>\n",
              "      <th>4</th>\n",
              "      <td>OUT013</td>\n",
              "      <td>Supermarket Type1</td>\n",
              "      <td>Tier 3</td>\n",
              "      <td>High</td>\n",
              "    </tr>\n",
              "    <tr>\n",
              "      <th>7</th>\n",
              "      <td>OUT027</td>\n",
              "      <td>Supermarket Type3</td>\n",
              "      <td>Tier 3</td>\n",
              "      <td>Medium</td>\n",
              "    </tr>\n",
              "    <tr>\n",
              "      <th>8</th>\n",
              "      <td>OUT045</td>\n",
              "      <td>Supermarket Type1</td>\n",
              "      <td>Tier 2</td>\n",
              "      <td>NaN</td>\n",
              "    </tr>\n",
              "    <tr>\n",
              "      <th>9</th>\n",
              "      <td>OUT017</td>\n",
              "      <td>Supermarket Type1</td>\n",
              "      <td>Tier 2</td>\n",
              "      <td>NaN</td>\n",
              "    </tr>\n",
              "    <tr>\n",
              "      <th>11</th>\n",
              "      <td>OUT046</td>\n",
              "      <td>Supermarket Type1</td>\n",
              "      <td>Tier 1</td>\n",
              "      <td>Small</td>\n",
              "    </tr>\n",
              "    <tr>\n",
              "      <th>19</th>\n",
              "      <td>OUT035</td>\n",
              "      <td>Supermarket Type1</td>\n",
              "      <td>Tier 2</td>\n",
              "      <td>Small</td>\n",
              "    </tr>\n",
              "    <tr>\n",
              "      <th>23</th>\n",
              "      <td>OUT019</td>\n",
              "      <td>Grocery Store</td>\n",
              "      <td>Tier 1</td>\n",
              "      <td>Small</td>\n",
              "    </tr>\n",
              "  </tbody>\n",
              "</table>\n",
              "</div>"
            ],
            "text/plain": [
              "   Outlet_Identifier        Outlet_Type Outlet_Location_Type Outlet_Size\n",
              "0             OUT049  Supermarket Type1               Tier 1      Medium\n",
              "1             OUT018  Supermarket Type2               Tier 3      Medium\n",
              "3             OUT010      Grocery Store               Tier 3         NaN\n",
              "4             OUT013  Supermarket Type1               Tier 3        High\n",
              "7             OUT027  Supermarket Type3               Tier 3      Medium\n",
              "8             OUT045  Supermarket Type1               Tier 2         NaN\n",
              "9             OUT017  Supermarket Type1               Tier 2         NaN\n",
              "11            OUT046  Supermarket Type1               Tier 1       Small\n",
              "19            OUT035  Supermarket Type1               Tier 2       Small\n",
              "23            OUT019      Grocery Store               Tier 1       Small"
            ]
          },
          "execution_count": 6,
          "metadata": {},
          "output_type": "execute_result"
        }
      ],
      "source": [
        "bigmart[[\"Outlet_Identifier\",\"Outlet_Type\",\"Outlet_Location_Type\",\"Outlet_Size\"]].drop_duplicates()"
      ]
    },
    {
      "cell_type": "markdown",
      "id": "26202979",
      "metadata": {
        "id": "26202979"
      },
      "source": [
        "we can refer this table to impute outlet size, since Grocery Stores are of small size, we can imput size small for OUT010 outlet and same for remaining two outlet as supermarket_type_1 of Tier 2 location are of small size.its a assumption and need to crosscheck always as and when we get more data"
      ]
    },
    {
      "cell_type": "code",
      "execution_count": null,
      "id": "eca69fc8",
      "metadata": {
        "id": "eca69fc8"
      },
      "outputs": [],
      "source": [
        "bigmart[\"Outlet_Size\"]=np.where(bigmart[\"Outlet_Identifier\"].isin([\"OUT010\",\"OUT045\",\"OUT017\"]),\"Small\",bigmart[\"Outlet_Size\"])"
      ]
    },
    {
      "cell_type": "code",
      "execution_count": null,
      "id": "83dc9e21",
      "metadata": {
        "id": "83dc9e21",
        "outputId": "6d7034e9-4046-45ed-a3e6-d3c817efa87a"
      },
      "outputs": [
        {
          "data": {
            "text/html": [
              "<div>\n",
              "<style scoped>\n",
              "    .dataframe tbody tr th:only-of-type {\n",
              "        vertical-align: middle;\n",
              "    }\n",
              "\n",
              "    .dataframe tbody tr th {\n",
              "        vertical-align: top;\n",
              "    }\n",
              "\n",
              "    .dataframe thead th {\n",
              "        text-align: right;\n",
              "    }\n",
              "</style>\n",
              "<table border=\"1\" class=\"dataframe\">\n",
              "  <thead>\n",
              "    <tr style=\"text-align: right;\">\n",
              "      <th></th>\n",
              "      <th>Item_Identifier</th>\n",
              "      <th>Item_Weight</th>\n",
              "    </tr>\n",
              "  </thead>\n",
              "  <tbody>\n",
              "    <tr>\n",
              "      <th>118</th>\n",
              "      <td>DRA12</td>\n",
              "      <td>11.60</td>\n",
              "    </tr>\n",
              "    <tr>\n",
              "      <th>2879</th>\n",
              "      <td>DRA24</td>\n",
              "      <td>NaN</td>\n",
              "    </tr>\n",
              "    <tr>\n",
              "      <th>1148</th>\n",
              "      <td>DRA24</td>\n",
              "      <td>19.35</td>\n",
              "    </tr>\n",
              "    <tr>\n",
              "      <th>6057</th>\n",
              "      <td>DRA59</td>\n",
              "      <td>NaN</td>\n",
              "    </tr>\n",
              "    <tr>\n",
              "      <th>1876</th>\n",
              "      <td>DRA59</td>\n",
              "      <td>8.27</td>\n",
              "    </tr>\n",
              "    <tr>\n",
              "      <th>...</th>\n",
              "      <td>...</td>\n",
              "      <td>...</td>\n",
              "    </tr>\n",
              "    <tr>\n",
              "      <th>411</th>\n",
              "      <td>NCZ42</td>\n",
              "      <td>10.50</td>\n",
              "    </tr>\n",
              "    <tr>\n",
              "      <th>2084</th>\n",
              "      <td>NCZ53</td>\n",
              "      <td>NaN</td>\n",
              "    </tr>\n",
              "    <tr>\n",
              "      <th>1267</th>\n",
              "      <td>NCZ53</td>\n",
              "      <td>9.60</td>\n",
              "    </tr>\n",
              "    <tr>\n",
              "      <th>1896</th>\n",
              "      <td>NCZ54</td>\n",
              "      <td>NaN</td>\n",
              "    </tr>\n",
              "    <tr>\n",
              "      <th>214</th>\n",
              "      <td>NCZ54</td>\n",
              "      <td>14.65</td>\n",
              "    </tr>\n",
              "  </tbody>\n",
              "</table>\n",
              "<p>2697 rows × 2 columns</p>\n",
              "</div>"
            ],
            "text/plain": [
              "     Item_Identifier  Item_Weight\n",
              "118            DRA12        11.60\n",
              "2879           DRA24          NaN\n",
              "1148           DRA24        19.35\n",
              "6057           DRA59          NaN\n",
              "1876           DRA59         8.27\n",
              "...              ...          ...\n",
              "411            NCZ42        10.50\n",
              "2084           NCZ53          NaN\n",
              "1267           NCZ53         9.60\n",
              "1896           NCZ54          NaN\n",
              "214            NCZ54        14.65\n",
              "\n",
              "[2697 rows x 2 columns]"
            ]
          },
          "execution_count": 8,
          "metadata": {},
          "output_type": "execute_result"
        }
      ],
      "source": [
        "bigmart[[\"Item_Identifier\",\"Item_Weight\"]].drop_duplicates().sort_values(by='Item_Identifier')"
      ]
    },
    {
      "cell_type": "markdown",
      "id": "8cf171ab",
      "metadata": {
        "id": "8cf171ab"
      },
      "source": [
        "We have gained item weight from other transactions occured,we can use weight from previous transaction of same item to impute missing weights, ffill method is useful for this type of imputation, it simply impute value of previous row in next null value"
      ]
    },
    {
      "cell_type": "code",
      "execution_count": null,
      "id": "ac912ee4",
      "metadata": {
        "id": "ac912ee4"
      },
      "outputs": [],
      "source": [
        "bigmart[\"Item_Weight\"]=bigmart.sort_values(by='Item_Identifier')[\"Item_Weight\"].fillna(method=\"ffill\")"
      ]
    },
    {
      "cell_type": "code",
      "execution_count": null,
      "id": "2e9ffeff",
      "metadata": {
        "id": "2e9ffeff",
        "outputId": "94d4cf06-d015-420f-9079-2f63a432da6d"
      },
      "outputs": [
        {
          "data": {
            "text/plain": [
              "Item_Identifier              0\n",
              "Item_Weight                  0\n",
              "Item_Fat_Content             0\n",
              "Item_Visibility              0\n",
              "Item_Type                    0\n",
              "Item_MRP                     0\n",
              "Outlet_Identifier            0\n",
              "Outlet_Establishment_Year    0\n",
              "Outlet_Size                  0\n",
              "Outlet_Location_Type         0\n",
              "Outlet_Type                  0\n",
              "Item_Outlet_Sales            0\n",
              "dtype: int64"
            ]
          },
          "execution_count": 10,
          "metadata": {},
          "output_type": "execute_result"
        }
      ],
      "source": [
        "bigmart.isnull().sum()"
      ]
    },
    {
      "cell_type": "markdown",
      "id": "d06e366d",
      "metadata": {
        "id": "d06e366d"
      },
      "source": [
        "Missing value treatment is done"
      ]
    },
    {
      "cell_type": "markdown",
      "id": "7a35cda6",
      "metadata": {
        "id": "7a35cda6"
      },
      "source": [
        "## OUTLIERS TREATMENT"
      ]
    },
    {
      "cell_type": "markdown",
      "id": "054f70b1",
      "metadata": {
        "id": "054f70b1"
      },
      "source": [
        "An outlier is a data point that differs significantly from other observations"
      ]
    },
    {
      "cell_type": "markdown",
      "id": "3849aa2b",
      "metadata": {
        "id": "3849aa2b"
      },
      "source": [
        "Boxplot is typically used to detect outliers in numeric column of dataset. observation above upper whisker or below lower whisker of boxplot is considered as outlier"
      ]
    },
    {
      "cell_type": "code",
      "execution_count": null,
      "id": "19c11798",
      "metadata": {
        "id": "19c11798",
        "outputId": "f079b5e7-cffc-4ded-836f-570a6ba198df"
      },
      "outputs": [
        {
          "data": {
            "image/png": "[encoded data removed]",
            "text/plain": [
              "<Figure size 640x480 with 4 Axes>"
            ]
          },
          "metadata": {},
          "output_type": "display_data"
        }
      ],
      "source": [
        "plt.subplot(221)\n",
        "boxplot = bigmart.boxplot(column=['Item_Weight'])\n",
        "\n",
        "plt.subplot(222)\n",
        "boxplot = bigmart.boxplot(column=['Item_Visibility'])\n",
        "\n",
        "plt.subplot(223)\n",
        "boxplot = bigmart.boxplot(column=['Item_MRP'])\n",
        "\n",
        "plt.subplot(224)\n",
        "boxplot = bigmart.boxplot(column=['Item_Outlet_Sales'])"
      ]
    },
    {
      "cell_type": "markdown",
      "id": "14780553",
      "metadata": {
        "id": "14780553"
      },
      "source": [
        "Its clealy visible from above boxplots that there are outliers present in Item_Visibility and item_Outlet_Sales,To treat these outliers we will simply replace of these extreme value with upper whisker of boxplot since all outliers are greater than upper limit"
      ]
    },
    {
      "cell_type": "code",
      "execution_count": null,
      "id": "cd400bd8",
      "metadata": {
        "id": "cd400bd8",
        "outputId": "190a7cef-c0aa-4fa2-8894-6fb4daee0984"
      },
      "outputs": [
        {
          "name": "stdout",
          "output_type": "stream",
          "text": [
            "Upper limit for item_Outlet_Sales:  6501.8699\n",
            "Upper limit for Item_Visibility:  0.195979015\n"
          ]
        }
      ],
      "source": [
        "IQR_Outlet_Sales=bigmart[\"Item_Outlet_Sales\"].quantile(0.75)-bigmart[\"Item_Outlet_Sales\"].quantile(0.25)\n",
        "IQR_Visibility=bigmart[\"Item_Visibility\"].quantile(0.75)-bigmart[\"Item_Visibility\"].quantile(0.25)\n",
        "\n",
        "Upper_limit_Outlet_Sales = bigmart[\"Item_Outlet_Sales\"].quantile(0.75) + (IQR_Outlet_Sales * 1.5)\n",
        "Upper_limit_Visibility = bigmart[\"Item_Visibility\"].quantile(0.75) + (IQR_Visibility * 1.5)\n",
        "\n",
        "print(\"Upper limit for item_Outlet_Sales: \",Upper_limit_Outlet_Sales,end=\"\\n\")\n",
        "print(\"Upper limit for Item_Visibility: \",Upper_limit_Visibility,end=\"\\n\")"
      ]
    },
    {
      "cell_type": "code",
      "execution_count": null,
      "id": "6d195088",
      "metadata": {
        "id": "6d195088"
      },
      "outputs": [],
      "source": [
        "bigmart[\"Item_Outlet_Sales\"]=np.where(bigmart[\"Item_Outlet_Sales\"]>Upper_limit_Outlet_Sales,Upper_limit_Outlet_Sales,bigmart[\"Item_Outlet_Sales\"])\n",
        "bigmart[\"Item_Visibility\"]=np.where(bigmart[\"Item_Visibility\"]>Upper_limit_Visibility,Upper_limit_Visibility,bigmart[\"Item_Visibility\"])\n"
      ]
    },
    {
      "cell_type": "code",
      "execution_count": null,
      "id": "f06e229d",
      "metadata": {
        "id": "f06e229d",
        "outputId": "342b0f84-84a8-422d-931b-6a4645f96ad2"
      },
      "outputs": [
        {
          "data": {
            "image/png": "[encoded data removed]",
            "text/plain": [
              "<Figure size 640x480 with 2 Axes>"
            ]
          },
          "metadata": {},
          "output_type": "display_data"
        }
      ],
      "source": [
        "plt.subplot(121)\n",
        "boxplot = bigmart.boxplot(column=['Item_Visibility'])\n",
        "\n",
        "plt.subplot(122)\n",
        "boxplot = bigmart.boxplot(column=['Item_Outlet_Sales'])"
      ]
    },
    {
      "cell_type": "markdown",
      "id": "03e11d80",
      "metadata": {
        "id": "03e11d80"
      },
      "source": [
        "Outliers from these two columns has been replaced by upper limit hence boxplot is not showing any outliers. outliers tretment is done"
      ]
    }
  ],
  "metadata": {
    "kernelspec": {
      "display_name": "Python 3 (ipykernel)",
      "language": "python",
      "name": "python3"
    },
    "language_info": {
      "codemirror_mode": {
        "name": "ipython",
        "version": 3
      },
      "file_extension": ".py",
      "mimetype": "text/x-python",
      "name": "python",
      "nbconvert_exporter": "python",
      "pygments_lexer": "ipython3",
      "version": "3.9.13"
    },
    "colab": {
      "provenance": []
    }
  },
  "nbformat": 4,
  "nbformat_minor": 5
}